{
 "cells": [
  {
   "cell_type": "code",
   "execution_count": 5,
   "id": "391e5e05",
   "metadata": {},
   "outputs": [
    {
     "name": "stdout",
     "output_type": "stream",
     "text": [
      "this is even\n",
      "end\n"
     ]
    }
   ],
   "source": [
    "\n",
    "val = eval(input(\"enter a integer:\"));\n",
    "\n",
    "if val%2==1:\n",
    "    print(\"this is odd\");\n",
    "else:\n",
    "    print(\"this is even\");\n",
    "print(\"end\");"
   ]
  },
  {
   "cell_type": "code",
   "execution_count": null,
   "id": "fed8501a",
   "metadata": {},
   "outputs": [
    {
     "name": "stdout",
     "output_type": "stream",
     "text": [
      "value error!\n"
     ]
    }
   ],
   "source": [
    "try:\n",
    "    score:int = int(input(\"please enter score\"));\n",
    "    if score>300:\n",
    "        raise Exception(\"over 300\");\n",
    "    is_add:str = input(\"do you want to mult the score?(y/n)\");\n",
    "    if is_add==\"y\":\n",
    "        score *= 1.05;\n",
    "        if score>300:\n",
    "            score = 300;\n",
    "    print(round(score));\n",
    "\n",
    "except ValueError:\n",
    "    print(\"value error!\");\n",
    "\n",
    "except Exception as errtxt:\n",
    "    print(errtxt);"
   ]
  }
 ],
 "metadata": {
  "kernelspec": {
   "display_name": "base",
   "language": "python",
   "name": "python3"
  },
  "language_info": {
   "codemirror_mode": {
    "name": "ipython",
    "version": 3
   },
   "file_extension": ".py",
   "mimetype": "text/x-python",
   "name": "python",
   "nbconvert_exporter": "python",
   "pygments_lexer": "ipython3",
   "version": "3.12.9"
  }
 },
 "nbformat": 4,
 "nbformat_minor": 5
}
