{
 "cells": [
  {
   "cell_type": "code",
   "execution_count": 2,
   "id": "001300e5",
   "metadata": {},
   "outputs": [
    {
     "name": "stdout",
     "output_type": "stream",
     "text": [
      "side = 5.0\n"
     ]
    }
   ],
   "source": [
    "import math\n",
    "\n",
    "base = eval(input(\"please enter base\"));\n",
    "height = eval(input(\"please enter height\"));\n",
    "side = math.sqrt(base**2+height**2);\n",
    "\n",
    "print(\"side =\",side);"
   ]
  },
  {
   "cell_type": "code",
   "execution_count": 6,
   "id": "262ed2fd",
   "metadata": {},
   "outputs": [
    {
     "name": "stdout",
     "output_type": "stream",
     "text": [
      "30.000000000000004 degree\n"
     ]
    }
   ],
   "source": [
    "height = eval(input(\"please enter height\"));\n",
    "side = eval(input(\"please enter side\"));\n",
    "\n",
    "angle = math.degrees(math.asin(height/side));\n",
    "print(angle, \"degree\");\n",
    "\n"
   ]
  },
  {
   "cell_type": "code",
   "execution_count": 15,
   "id": "e8f2d80e",
   "metadata": {},
   "outputs": [
    {
     "name": "stdout",
     "output_type": "stream",
     "text": [
      "身高(公尺):1.74\n",
      "體重(公斤):72.00\n",
      "BMI:23.78\n"
     ]
    }
   ],
   "source": [
    "height = eval(input(\"請輸入身高(公分):\"))/100;\n",
    "weight = eval(input(\"請輸入體重(公斤):\"));\n",
    "\n",
    "bmi = weight/height**2;\n",
    "print(f\"身高(公尺):{height:.2f}\");\n",
    "print(f\"體重(公斤):{weight:.2f}\");\n",
    "print(f\"BMI:{bmi:.2f}\");"
   ]
  }
 ],
 "metadata": {
  "kernelspec": {
   "display_name": "base",
   "language": "python",
   "name": "python3"
  },
  "language_info": {
   "codemirror_mode": {
    "name": "ipython",
    "version": 3
   },
   "file_extension": ".py",
   "mimetype": "text/x-python",
   "name": "python",
   "nbconvert_exporter": "python",
   "pygments_lexer": "ipython3",
   "version": "3.12.9"
  }
 },
 "nbformat": 4,
 "nbformat_minor": 5
}
