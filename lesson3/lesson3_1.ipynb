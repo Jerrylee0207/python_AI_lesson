{
 "cells": [
  {
   "cell_type": "code",
   "execution_count": 1,
   "id": "1421dce4",
   "metadata": {},
   "outputs": [
    {
     "data": {
      "text/plain": [
       "16"
      ]
     },
     "execution_count": 1,
     "metadata": {},
     "output_type": "execute_result"
    }
   ],
   "source": [
    "2*2**3"
   ]
  },
  {
   "cell_type": "code",
   "execution_count": 5,
   "id": "1f5390df",
   "metadata": {},
   "outputs": [
    {
     "name": "stdout",
     "output_type": "stream",
     "text": [
      "100000\n"
     ]
    }
   ],
   "source": [
    "a = 10;\n",
    "b = 5;\n",
    "c = a**b;\n",
    "print(c);\n",
    "\n"
   ]
  },
  {
   "cell_type": "code",
   "execution_count": 3,
   "id": "f9f35972",
   "metadata": {},
   "outputs": [
    {
     "name": "stdout",
     "output_type": "stream",
     "text": [
      "45.6 * 15.6 , area = 711.36\n"
     ]
    }
   ],
   "source": [
    "width = eval(input(\"please enter width: \"));\n",
    "height = eval(input(\"please enter height: \"));\n",
    "area = width*height;\n",
    "print(width, \"*\", height,\", area =\", area);"
   ]
  }
 ],
 "metadata": {
  "kernelspec": {
   "display_name": "base",
   "language": "python",
   "name": "python3"
  },
  "language_info": {
   "codemirror_mode": {
    "name": "ipython",
    "version": 3
   },
   "file_extension": ".py",
   "mimetype": "text/x-python",
   "name": "python",
   "nbconvert_exporter": "python",
   "pygments_lexer": "ipython3",
   "version": "3.12.9"
  }
 },
 "nbformat": 4,
 "nbformat_minor": 5
}
