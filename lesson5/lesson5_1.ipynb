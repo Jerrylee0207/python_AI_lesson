{
 "cells": [
  {
   "cell_type": "code",
   "execution_count": 1,
   "id": "55908c14",
   "metadata": {},
   "outputs": [
    {
     "name": "stdout",
     "output_type": "stream",
     "text": [
      "F\n"
     ]
    }
   ],
   "source": [
    "score = int(input(\"please enter a score between 1~100\"));\n",
    "\n",
    "if score >= 90:\n",
    "    print(\"A\");\n",
    "elif score >= 80:\n",
    "    print(\"B\");\n",
    "elif score >= 70:\n",
    "    print(\"C\");\n",
    "elif score >= 60:\n",
    "    print(\"D\");\n",
    "else:\n",
    "    print(\"F\");\n"
   ]
  },
  {
   "cell_type": "code",
   "execution_count": null,
   "id": "7a346faa",
   "metadata": {},
   "outputs": [],
   "source": [
    "import math\n",
    "\n",
    "for i in range(1,10):\n",
    "    for j in range(1,10):\n",
    "        print(f\"{i}*{j}={i*j}\", end='\\t');\n",
    "    print(\"\\n\");"
   ]
  },
  {
   "cell_type": "code",
   "execution_count": 2,
   "id": "f99e6158",
   "metadata": {},
   "outputs": [
    {
     "name": "stdout",
     "output_type": "stream",
     "text": [
      "after 11 months of saving, you've deposite 48500 dollars\n",
      "\n"
     ]
    }
   ],
   "source": [
    "deposite = 0;\n",
    "month = 0;\n",
    "input_val = 0;\n",
    "while(deposite<30000):\n",
    "    month += 1;\n",
    "    input_val = int(input(\"please enter a val\"));\n",
    "    deposite += input_val;\n",
    "\n",
    "print(f\"after {month} months of saving, you've deposite {deposite} dollars\\n\");"
   ]
  },
  {
   "cell_type": "code",
   "execution_count": 3,
   "id": "634759e3",
   "metadata": {},
   "outputs": [
    {
     "name": "stdout",
     "output_type": "stream",
     "text": [
      "80 is too large!\n",
      "40 is too large!\n",
      "40 is too large!\n",
      "20 is too small!\n",
      "answer is 30, congrats!\n"
     ]
    }
   ],
   "source": [
    "import random\n",
    "\n",
    "val_min = 1;\n",
    "val_max = 100;\n",
    "\n",
    "ans = random.randint(val_min, val_max);\n",
    "guess = -1;\n",
    "\n",
    "while(guess!=ans):\n",
    "    guess = int(input(\"please guess a number(1-100):\"));\n",
    "    if(guess>ans):\n",
    "        print(f\"{guess} is too large!\");\n",
    "    elif(guess<ans):\n",
    "        print(f\"{guess} is too small!\");\n",
    "    else:\n",
    "        print(f\"answer is {ans}, congrats!\");\n",
    "\n",
    "\n",
    "\n"
   ]
  },
  {
   "cell_type": "code",
   "execution_count": 7,
   "id": "0d5e0841",
   "metadata": {},
   "outputs": [
    {
     "name": "stdout",
     "output_type": "stream",
     "text": [
      "身高(公尺):1.74\n",
      "體重(公斤):72.00\n",
      "BMI:23.78\n",
      "您的體質正常\n"
     ]
    }
   ],
   "source": [
    "height = eval(input(\"請輸入身高(公分):\"))/100;\n",
    "weight = eval(input(\"請輸入體重(公斤):\"));\n",
    "\n",
    "bmi = weight/height**2;\n",
    "print(f\"身高(公尺):{height:.2f}\");\n",
    "print(f\"體重(公斤):{weight:.2f}\");\n",
    "print(f\"BMI:{bmi:.2f}\");\n",
    "\n",
    "if(bmi>=35):\n",
    "    print(\"您的體質為重度肥胖\");\n",
    "elif(bmi>=30):\n",
    "    print(\"您的體質為中度肥胖\");\n",
    "elif(bmi>=27):\n",
    "    print(\"您的體質為輕度肥胖\");\n",
    "elif(bmi>=24):\n",
    "    print(\"您的體重過重\");\n",
    "elif(bmi>=18.5):\n",
    "    print(\"您的體質正常\");\n",
    "else:\n",
    "    print(\"您的體重過輕\");\n"
   ]
  }
 ],
 "metadata": {
  "kernelspec": {
   "display_name": "base",
   "language": "python",
   "name": "python3"
  },
  "language_info": {
   "codemirror_mode": {
    "name": "ipython",
    "version": 3
   },
   "file_extension": ".py",
   "mimetype": "text/x-python",
   "name": "python",
   "nbconvert_exporter": "python",
   "pygments_lexer": "ipython3",
   "version": "3.12.9"
  }
 },
 "nbformat": 4,
 "nbformat_minor": 5
}
